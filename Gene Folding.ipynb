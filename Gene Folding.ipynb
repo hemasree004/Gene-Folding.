{
 "cells": [
  {
   "cell_type": "code",
   "execution_count": 1,
   "id": "b0562589",
   "metadata": {},
   "outputs": [
    {
     "name": "stdout",
     "output_type": "stream",
     "text": [
      "ATTACC\n",
      "3\n"
     ]
    }
   ],
   "source": [
    " genes = input()\n",
    "genes_folding = \"#\" + \"#\".join(genes) + \"#\"\n",
    "\n",
    "radio = [0] * len(genes_folding)\n",
    "cabeza = 0\n",
    "cola = len(genes_folding) - 1\n",
    "radio_bordo = -1\n",
    "centro = -1\n",
    "\n",
    "for i in range(len(genes_folding)):\n",
    "    if radio_bordo >= i:\n",
    "        radio[i] = min(radio[centro + centro - i], radio_bordo - i)\n",
    "    else:\n",
    "        radio[i] = 1\n",
    "\n",
    "    while (\n",
    "        i + radio[i] < len(genes_folding)\n",
    "        and i - radio[i] >= 0\n",
    "        and genes_folding[i + radio[i]] == genes_folding[i - radio[i]]\n",
    "    ):\n",
    "        radio[i] += 1\n",
    "\n",
    "    if i + radio[i] - 1 > radio_bordo:\n",
    "        radio_bordo = i + radio[i] - 1\n",
    "        centro = i\n",
    "\n",
    "    if i % 2 == 0 and radio[i] - 1 >= i - cabeza:\n",
    "        cabeza = i\n",
    "        cola = i + radio[i] - 1\n",
    "\n",
    "for i in range(len(genes_folding) - 1, cabeza, -2):\n",
    "    if radio[i] - 1 >= cola - i:\n",
    "        cola -= min(i - cabeza, cola - i)\n",
    "        respuesta = (cola - cabeza) // 2\n",
    "print(respuesta)"
   ]
  },
  {
   "cell_type": "code",
   "execution_count": null,
   "id": "d6b955af",
   "metadata": {},
   "outputs": [],
   "source": []
  }
 ],
 "metadata": {
  "kernelspec": {
   "display_name": "Python 3 (ipykernel)",
   "language": "python",
   "name": "python3"
  },
  "language_info": {
   "codemirror_mode": {
    "name": "ipython",
    "version": 3
   },
   "file_extension": ".py",
   "mimetype": "text/x-python",
   "name": "python",
   "nbconvert_exporter": "python",
   "pygments_lexer": "ipython3",
   "version": "3.10.9"
  }
 },
 "nbformat": 4,
 "nbformat_minor": 5
}
