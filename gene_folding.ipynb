{
  "nbformat": 4,
  "nbformat_minor": 0,
  "metadata": {
    "colab": {
      "provenance": []
    },
    "kernelspec": {
      "name": "python3",
      "display_name": "Python 3"
    },
    "language_info": {
      "name": "python"
    }
  },
  "cells": [
    {
      "cell_type": "code",
      "source": [
        "str1 =input()\n",
        "l=[\"A\",\"C\",\"T\",\"G\"]\n",
        "flag=0 #to know that a certain condition has met.(true or false)\n",
        "count=0\n",
        "for i in str1:\n",
        "    if i not in l:\n",
        "        f=1\n",
        "if flag==0:\n",
        "    print(\"Valid\")\n",
        "    for i in range(len(str1)):\n",
        "        a=str1[:i+1] #after folding part 1\n",
        "        b=str1[i+1:] # after folding part 2\n",
        "        mini=min(len(a),len(b)) #to find min length\n",
        "##        print(a[:mini],b) #MINIUM LENGTH OF FIRST part\n",
        "##        print(b[:mini],a) #minimum length of second part\n",
        "        if len(a)<len(b):\n",
        "            a=a[::-1]\n",
        "            if b[:mini]==a:\n",
        "                count+=1\n",
        "        else:\n",
        "            b=b[::-1]\n",
        "            if a[:mini]==b:\n",
        "                count+=1\n",
        "    print(count)\n",
        "else:\n",
        "    print(\"Invalid\")"
      ],
      "metadata": {
        "id": "7MNBOQylqFOf",
        "colab": {
          "base_uri": "https://localhost:8080/"
        },
        "outputId": "46273b91-4aa3-48d7-aeb4-54bc6001024f"
      },
      "execution_count": 2,
      "outputs": [
        {
          "output_type": "stream",
          "name": "stdout",
          "text": [
            "ATTACC\n",
            "Valid\n",
            "2\n"
          ]
        }
      ]
    }
  ]
}